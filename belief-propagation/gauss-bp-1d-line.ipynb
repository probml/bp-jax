{
 "cells": [
  {
   "cell_type": "markdown",
   "metadata": {},
   "source": [
    "\"\"\"\n",
    "# Gaussian Belief Propagation Library\n",
    "\n",
    "Author: [Joseph Ortiz](https://joeaortiz.github.io/)\n",
    "\n",
    "License: [Creative Commons Attribution 4.0 International\n",
    "](https://github.com/gaussianBP/gaussianBP.github.io/blob/master/LICENSE)\n",
    "\n",
    "This library is provided as accompanying code to our article [A visual introduction to Gaussian Belief Propagation\n",
    "](https://gaussianbp.github.io/).\n",
    "\"\"\""
   ]
  },
  {
   "cell_type": "code",
   "execution_count": 3,
   "metadata": {},
   "outputs": [],
   "source": [
    "# Commented out IPython magic to ensure Python compatibility.\n",
    "#@title Imports\n",
    "import numpy as np\n",
    "import os\n",
    "import matplotlib.pyplot as plt\n",
    "\n",
    "from typing import List, Callable, Optional, Union\n",
    "\n",
    "import jax.numpy as jnp\n",
    "from jax import random as jrand\n",
    "from jax import config\n",
    "\n",
    "from factor_graph import FactorGraph, GBPSettings\n",
    "from gaussian import MeasModel, SquaredLoss\n",
    "\n",
    "# Uncomment below expression to enforce CPU runtime\n",
    "# config.update('jax_platform_name', 'cpu')"
   ]
  },
  {
   "cell_type": "markdown",
   "metadata": {},
   "source": [
    "# \"\"\"1D Line Fitting Example\"\"\"\n",
    "\n",
    "## Create Custom factors"
   ]
  },
  {
   "cell_type": "code",
   "execution_count": 4,
   "metadata": {},
   "outputs": [],
   "source": [
    "def height_meas_fn(x: jnp.array, gamma: jnp.array):\n",
    "    gamma = gamma.squeeze()\n",
    "    J = jnp.array([1-gamma, gamma])\n",
    "    return J @ x.reshape(-1,1)\n",
    "\n",
    "def height_jac_fn(x: jnp.array, gamma: jnp.array):\n",
    "    gamma = gamma.squeeze()\n",
    "    return jnp.array([[1-gamma, gamma]])\n",
    "\n",
    "class HeightMeasurementModel(MeasModel):\n",
    "    def __init__(self, loss: SquaredLoss, gamma: jnp.array) -> None:\n",
    "        MeasModel.__init__(self, height_meas_fn, height_jac_fn, loss, gamma)\n",
    "        self.linear = True\n",
    "\n",
    "def smooth_meas_fn(x: jnp.array):\n",
    "    return jnp.array([x[1] - x[0]])\n",
    "\n",
    "def smooth_jac_fn(x: jnp.array):\n",
    "    return jnp.array([[-1., 1.]])\n",
    "\n",
    "class SmoothingModel(MeasModel):\n",
    "    def __init__(self, loss: SquaredLoss) -> None:\n",
    "        MeasModel.__init__(self, smooth_meas_fn, smooth_jac_fn, loss)\n",
    "        self.linear = True"
   ]
  },
  {
   "cell_type": "markdown",
   "metadata": {},
   "source": [
    "## Set parameters"
   ]
  },
  {
   "cell_type": "code",
   "execution_count": 5,
   "metadata": {},
   "outputs": [],
   "source": [
    "n_varnodes = 20\n",
    "x_range = 10\n",
    "n_measurements = 15\n",
    "\n",
    "gbp_settings = GBPSettings(\n",
    "    damping = 0.1,\n",
    "    beta = 0.01,\n",
    "    num_undamped_iters = 1,\n",
    "    min_linear_iters = 1,\n",
    "    dropout = 0.0,\n",
    ")"
   ]
  },
  {
   "cell_type": "markdown",
   "metadata": {},
   "source": [
    "## Gaussian noise measurement model parameters:"
   ]
  },
  {
   "cell_type": "code",
   "execution_count": 6,
   "metadata": {},
   "outputs": [
    {
     "name": "stderr",
     "output_type": "stream",
     "text": [
      "WARNING:absl:No GPU/TPU found, falling back to CPU. (Set TF_CPP_MIN_LOG_LEVEL=0 and rerun for more info.)\n"
     ]
    }
   ],
   "source": [
    "prior_cov = jnp.array([10.])\n",
    "data_cov = jnp.array([0.05]) \n",
    "smooth_cov = jnp.array([0.1])\n",
    "data_std = jnp.sqrt(data_cov)"
   ]
  },
  {
   "cell_type": "markdown",
   "metadata": {},
   "source": [
    "## Create measurements {vertical-output: true}"
   ]
  },
  {
   "cell_type": "code",
   "execution_count": 7,
   "metadata": {},
   "outputs": [],
   "source": [
    "key = jrand.PRNGKey(42)\n",
    "meas_x = jrand.randint(key, [n_measurements], 0, x_range)\n",
    "key, subkey = jrand.split(key)\n",
    "meas_y = jnp.sin(meas_x) + jrand.normal(key, [n_measurements])*data_std"
   ]
  },
  {
   "cell_type": "markdown",
   "metadata": {},
   "source": [
    "## Plot measurements"
   ]
  },
  {
   "cell_type": "code",
   "execution_count": 8,
   "metadata": {},
   "outputs": [
    {
     "data": {
      "image/png": "[encoded data removed]",
      "text/plain": [
       "<Figure size 432x288 with 1 Axes>"
      ]
     },
     "metadata": {
      "needs_background": "light"
     },
     "output_type": "display_data"
    }
   ],
   "source": [
    "plt.scatter(meas_x, meas_y, color=\"red\", label=\"Measurements\", marker=\".\")\n",
    "plt.legend()\n",
    "plt.show()"
   ]
  },
  {
   "cell_type": "markdown",
   "metadata": {},
   "source": [
    "## Create factor graph {vertical-output: true}"
   ]
  },
  {
   "cell_type": "code",
   "execution_count": 9,
   "metadata": {},
   "outputs": [
    {
     "name": "stdout",
     "output_type": "stream",
     "text": [
      "\n",
      "Factor Graph:\n",
      "# Variable nodes: 20\n",
      "# Factors: 34\n",
      "\n",
      "\n"
     ]
    }
   ],
   "source": [
    "fg = FactorGraph(gbp_settings)\n",
    "\n",
    "xs = jnp.linspace(0, x_range, n_varnodes).reshape(-1,1)\n",
    "\n",
    "for i in range(n_varnodes):\n",
    "    fg.add_var_node(1, jnp.array([0.]), prior_cov)\n",
    "\n",
    "for i in range(n_varnodes-1):\n",
    "    fg.add_factor(\n",
    "    [i, i+1], \n",
    "    jnp.array([0.]), \n",
    "    SmoothingModel(SquaredLoss(1, smooth_cov))\n",
    "    )\n",
    "\n",
    "for i in range(n_measurements):\n",
    "    ix2 = np.argmax(xs > meas_x[i])\n",
    "    ix1 = ix2 - 1\n",
    "    gamma = (meas_x[i] - xs[ix1]) / (xs[ix2] - xs[ix1])\n",
    "    fg.add_factor(\n",
    "    [ix1, ix2], \n",
    "    meas_y[i], \n",
    "    HeightMeasurementModel(\n",
    "        SquaredLoss(1, data_cov), \n",
    "        gamma  \n",
    "        )\n",
    "    )\n",
    "fg.print(brief=True)"
   ]
  },
  {
   "cell_type": "markdown",
   "metadata": {},
   "source": [
    "## Beliefs are initialized to zero\n",
    "## Plot beliefs and measurements"
   ]
  },
  {
   "cell_type": "code",
   "execution_count": 10,
   "metadata": {},
   "outputs": [
    {
     "data": {
      "image/png": "[encoded data removed]",
      "text/plain": [
       "<Figure size 432x288 with 1 Axes>"
      ]
     },
     "metadata": {
      "needs_background": "light"
     },
     "output_type": "display_data"
    }
   ],
   "source": [
    "covs = jnp.sqrt(jnp.concatenate(fg.belief_covs()).flatten())\n",
    "plt.errorbar(xs, fg.belief_means(), yerr=covs, fmt='o', color=\"C0\", label='Beliefs')\n",
    "plt.scatter(meas_x, meas_y, color=\"red\", label=\"Measurements\", marker=\".\")\n",
    "plt.legend()\n",
    "plt.show()"
   ]
  },
  {
   "cell_type": "markdown",
   "metadata": {},
   "source": [
    "## Solve with GBP {vertical-output: true}"
   ]
  },
  {
   "cell_type": "code",
   "execution_count": 11,
   "metadata": {},
   "outputs": [
    {
     "name": "stdout",
     "output_type": "stream",
     "text": [
      "\n",
      "Initial Energy 106.23512\n",
      "Iter 1  --- Energy 45.52087 --- \n",
      "Iter 2  --- Energy 26.09325 --- \n",
      "Iter 3  --- Energy 27.78958 --- \n",
      "Iter 4  --- Energy 17.66786 --- \n",
      "Iter 5  --- Energy 16.32377 --- \n",
      "Iter 6  --- Energy 15.39066 --- \n",
      "Iter 7  --- Energy 14.81991 --- \n",
      "Iter 8  --- Energy 14.48639 --- \n",
      "Iter 9  --- Energy 14.44526 --- \n",
      "Iter 10  --- Energy 14.43492 --- \n",
      "Iter 11  --- Energy 14.43174 --- \n",
      "Iter 12  --- Energy 14.43131 --- \n",
      "Iter 13  --- Energy 14.43096 --- \n",
      "Iter 14  --- Energy 14.43098 --- \n",
      "Iter 15  --- Energy 14.43092 --- \n",
      "Iter 16  --- Energy 14.43093 --- \n",
      "Iter 17  --- Energy 14.43092 --- \n",
      "Iter 18  --- Energy 14.43092 --- \n",
      "Iter 19  --- Energy 14.43092 --- \n",
      "Iter 20  --- Energy 14.43092 --- \n",
      "Iter 21  --- Energy 14.43092 --- \n",
      "Iter 22  --- Energy 14.43092 --- \n",
      "Iter 23  --- Energy 14.43092 --- \n",
      "Iter 24  --- Energy 14.43092 --- \n",
      "Iter 25  --- Energy 14.43092 --- \n",
      "Iter 26  --- Energy 14.43092 --- \n",
      "Iter 27  --- Energy 14.43092 --- \n",
      "Iter 28  --- Energy 14.43092 --- \n",
      "Iter 29  --- Energy 14.43092 --- \n"
     ]
    }
   ],
   "source": [
    "fg.gbp_solve(n_iters=50)"
   ]
  },
  {
   "cell_type": "markdown",
   "metadata": {},
   "source": [
    "## Plot beliefs and measurements"
   ]
  },
  {
   "cell_type": "code",
   "execution_count": 12,
   "metadata": {},
   "outputs": [
    {
     "data": {
      "image/png": "[encoded data removed]",
      "text/plain": [
       "<Figure size 432x288 with 1 Axes>"
      ]
     },
     "metadata": {
      "needs_background": "light"
     },
     "output_type": "display_data"
    }
   ],
   "source": [
    "covs = jnp.sqrt(jnp.concatenate(fg.belief_covs()).flatten())\n",
    "plt.errorbar(xs, fg.belief_means(), yerr=covs, fmt='o', color=\"C0\", label='Beliefs')\n",
    "plt.scatter(meas_x, meas_y, color=\"red\", label=\"Measurements\", marker=\".\")\n",
    "plt.legend()\n",
    "plt.show()"
   ]
  },
  {
   "cell_type": "code",
   "execution_count": null,
   "metadata": {},
   "outputs": [],
   "source": []
  },
  {
   "cell_type": "code",
   "execution_count": null,
   "metadata": {},
   "outputs": [],
   "source": []
  }
 ],
 "metadata": {
  "kernelspec": {
   "display_name": "py_36",
   "language": "python",
   "name": "py_36"
  },
  "language_info": {
   "codemirror_mode": {
    "name": "ipython",
    "version": 3
   },
   "file_extension": ".py",
   "mimetype": "text/x-python",
   "name": "python",
   "nbconvert_exporter": "python",
   "pygments_lexer": "ipython3",
   "version": "3.6.13"
  }
 },
 "nbformat": 4,
 "nbformat_minor": 2
}
