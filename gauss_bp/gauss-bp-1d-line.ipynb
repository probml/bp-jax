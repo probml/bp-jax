{
 "cells": [
  {
   "cell_type": "markdown",
   "id": "fe6d2d04-8b24-4f9b-872a-c7d0539edc9f",
   "metadata": {},
   "source": [
    "<a href=\"https://colab.research.google.com/github/probml/pgm-jax/blob/main/gauss_bp/gauss-bp-1d-line.ipynb\" target=\"_parent\"><img src=\"https://colab.research.google.com/assets/colab-badge.svg\" alt=\"Open In Colab\"/></a>"
   ]
  },
  {
   "cell_type": "code",
   "execution_count": null,
   "id": "08079698-6341-40fb-b67e-3a5e7d744f53",
   "metadata": {},
   "outputs": [],
   "source": [
    "!git clone https://github.com/probml/pgm-jax.git"
   ]
  },
  {
   "cell_type": "code",
   "execution_count": null,
   "id": "a8c778dc-be87-4465-a622-742cc557f87c",
   "metadata": {},
   "outputs": [],
   "source": [
    "%cd pgm-jax"
   ]
  },
  {
   "cell_type": "code",
   "execution_count": 2,
   "id": "867daea0-1432-4ae3-9fa6-67a9890b76c1",
   "metadata": {},
   "outputs": [],
   "source": [
    "import numpy as np\n",
    "\n",
    "from jax import numpy as jnp\n",
    "from jax import random as jr\n",
    "from jax import jit\n",
    "from matplotlib import pyplot as plt"
   ]
  },
  {
   "cell_type": "markdown",
   "id": "bc968c0d-f9d0-4010-bd92-a61752185238",
   "metadata": {},
   "source": [
    "# 1D Smoothing Demo"
   ]
  },
  {
   "cell_type": "code",
   "execution_count": 3,
   "id": "93e8fdd9-fcb4-4f0a-9149-023c4f41183f",
   "metadata": {},
   "outputs": [],
   "source": [
    "from gauss_bp.gauss_factor_graph import (CanonicalPotential, GaussianVariableNode, CanonicalFactor,\n",
    "                                        GaussianFactorGraph, make_canonical_factor, make_factor_graph,\n",
    "                                        init_messages, update_all_messages, calculate_all_beliefs)"
   ]
  },
  {
   "cell_type": "code",
   "execution_count": 4,
   "id": "6f0f9735-d325-4db4-8994-64a0b12d34bc",
   "metadata": {},
   "outputs": [],
   "source": [
    "def cpot_to_moment_1D(cpot):\n",
    "    eta, Lambda = cpot\n",
    "    var = 1/Lambda.squeeze()\n",
    "    return eta * var, var\n",
    "\n",
    "def beliefs_to_means_covs(beliefs):\n",
    "    mean_var_list = [cpot_to_moment_1D(b) for b in beliefs.values()]\n",
    "    means, variances = (jnp.hstack(x) for x in zip(*mean_var_list))\n",
    "    return means, variances\n",
    "\n",
    "def plot_beliefs(fg,messages,xs=None,**kwargs):\n",
    "    beliefs = calculate_all_beliefs(fg,messages)\n",
    "    mus, covs = beliefs_to_means_covs(beliefs)\n",
    "    if xs is None:\n",
    "        xs = np.arange(len(mus))\n",
    "    if 'fmt' not in kwargs:\n",
    "        kwargs['fmt'] = \"-o\"\n",
    "    plt.errorbar(xs, mus, yerr=np.sqrt(covs), **kwargs); "
   ]
  },
  {
   "cell_type": "markdown",
   "id": "6c60554c-de6b-429c-8f45-b96c78c72746",
   "metadata": {},
   "source": [
    "### Define measurement factors"
   ]
  },
  {
   "cell_type": "code",
   "execution_count": 5,
   "id": "c293a2f2-37a5-4b69-b943-b87f544b5419",
   "metadata": {},
   "outputs": [],
   "source": [
    "def gamma(x,g1,g2):\n",
    "    return (g1-x)/(g1-g2)\n",
    "\n",
    "def measurement_pot(meas,g1,g2,delta=1.):\n",
    "    mx, my = meas\n",
    "    γ = gamma(mx,g1,g2)\n",
    "    eta = delta * jnp.array([(1-γ)*my, γ*my])\n",
    "    Lambda = delta * jnp.array([[(1-γ)**2, γ*(1-γ)],\n",
    "                                [γ*(1-γ), γ**2]])\n",
    "    return CanonicalPotential(eta, Lambda)\n",
    "\n",
    "def create_measurement_factor(meas,xs,var_nodes,delta=1.):\n",
    "    mx, my = meas\n",
    "    i = np.argwhere(xs > mx).min()\n",
    "    mpot = measurement_pot(meas,xs[i],xs[i-1], delta)\n",
    "    mfactor = make_canonical_factor(f\"meas_{i}-{i-1}\",(var_nodes[i],var_nodes[i-1]),mpot)\n",
    "    return mfactor"
   ]
  },
  {
   "cell_type": "markdown",
   "id": "d2f0830c-0d46-4744-9728-ec798aa80dab",
   "metadata": {},
   "source": [
    "### Set Model Parameters"
   ]
  },
  {
   "cell_type": "code",
   "execution_count": 6,
   "id": "33ee4f51-1dca-4aef-b599-14bc2376db63",
   "metadata": {},
   "outputs": [
    {
     "name": "stderr",
     "output_type": "stream",
     "text": [
      "WARNING:absl:No GPU/TPU found, falling back to CPU. (Set TF_CPP_MIN_LOG_LEVEL=0 and rerun for more info.)\n"
     ]
    }
   ],
   "source": [
    "n_varnodes = 20\n",
    "x_range = 10\n",
    "n_measurements = 15\n",
    "\n",
    "## Parameters ##\n",
    "prior_cov = 10.\n",
    "prior_prec = 1/prior_cov\n",
    "data_cov = 0.05\n",
    "data_prec = 1/data_cov\n",
    "smooth_cov = 0.1\n",
    "smooth_prec = 1/smooth_cov\n",
    "data_std = jnp.sqrt(data_cov)\n",
    "\n",
    "## Evaluation points ##\n",
    "xs = jnp.linspace(0, x_range, n_varnodes)"
   ]
  },
  {
   "cell_type": "markdown",
   "id": "543f4295-6e8c-4a41-9d34-fcbcb4c3c657",
   "metadata": {},
   "source": [
    "### Create measurement data"
   ]
  },
  {
   "cell_type": "code",
   "execution_count": 7,
   "id": "d6b9507b-1f61-48bf-b065-20907717e4d6",
   "metadata": {},
   "outputs": [],
   "source": [
    "key = jr.PRNGKey(42)\n",
    "mxs = jr.randint(key, (n_measurements,), 0, x_range)\n",
    "key, subkey = jr.split(key)\n",
    "mys = jnp.sin(mxs) + jr.normal(key, (n_measurements,))*data_std"
   ]
  },
  {
   "cell_type": "code",
   "execution_count": 8,
   "id": "de7531c7-6aed-44af-a7ba-3204697ae6ee",
   "metadata": {},
   "outputs": [
    {
     "data": {
      "image/png": "[encoded data removed]",
      "text/plain": [
       "<Figure size 432x288 with 1 Axes>"
      ]
     },
     "metadata": {
      "needs_background": "light"
     },
     "output_type": "display_data"
    }
   ],
   "source": [
    "plt.plot(mxs,mys,'r.');"
   ]
  },
  {
   "cell_type": "markdown",
   "id": "616bb02a-0ede-4044-9111-a8c95914ab53",
   "metadata": {},
   "source": [
    "### Construct factor graph"
   ]
  },
  {
   "cell_type": "code",
   "execution_count": 9,
   "id": "7d83e762-e86e-404e-aa8e-1817ce01a134",
   "metadata": {},
   "outputs": [],
   "source": [
    "## Variable nodes ##\n",
    "dim = 1\n",
    "prior_Lambda = jnp.array([[prior_prec]])\n",
    "var_nodes = [GaussianVariableNode(i,dim,CanonicalPotential(jnp.zeros(dim),prior_Lambda))\n",
    "             for i in range(n_varnodes)]\n",
    "\n",
    "## Smoothing factors ##\n",
    "smoothing_eta = jnp.zeros(2*dim)\n",
    "smoothing_Lambda = jnp.array([[smooth_prec, -smooth_prec],\n",
    "                              [-smooth_prec, smooth_prec]])\n",
    "smoothing_pot = CanonicalPotential(smoothing_eta, smoothing_Lambda)\n",
    "smoothing_factors = [CanonicalFactor(factorID=f\"smoothing_factor_{i}-{i+1}\",\n",
    "                           adj_varIDs=[i,i+1],\n",
    "                           potential=smoothing_pot,\n",
    "                           var_scopes = {i:(0,1),i+1:(1,2)})\n",
    "                       for i in range(n_varnodes-1)]\n",
    "\n",
    "## Measurement factors ##\n",
    "measurement_factors = [create_measurement_factor(m,xs,var_nodes, delta=data_prec) for m in zip(mxs,mys)]\n",
    "\n",
    "## All factors ##\n",
    "factors = smoothing_factors + measurement_factors\n",
    "\n",
    "fg = make_factor_graph(var_nodes, factors)"
   ]
  },
  {
   "cell_type": "code",
   "execution_count": 10,
   "id": "5044d1a2-cc32-41cd-8bd7-33b44e06359c",
   "metadata": {},
   "outputs": [],
   "source": [
    "jit_update_messages = jit(lambda m: update_all_messages(fg,m,damping=0.1))"
   ]
  },
  {
   "cell_type": "markdown",
   "id": "848a00f6-491b-49a8-9926-243ffc91305b",
   "metadata": {},
   "source": [
    "### Plot initial belief state"
   ]
  },
  {
   "cell_type": "code",
   "execution_count": 11,
   "id": "305a7f6f-7aa5-4ae1-8c95-3794f455eb90",
   "metadata": {},
   "outputs": [
    {
     "data": {
      "image/png": "[encoded data removed]",
      "text/plain": [
       "<Figure size 432x288 with 1 Axes>"
      ]
     },
     "metadata": {
      "needs_background": "light"
     },
     "output_type": "display_data"
    }
   ],
   "source": [
    "plt.plot(mxs,mys,'X',color=\"C3\");\n",
    "plot_beliefs(fg,init_messages(fg),xs, fmt=\"o\")"
   ]
  },
  {
   "cell_type": "markdown",
   "id": "fd1b744c-c5a0-4c24-b1a1-6196fc25bcc6",
   "metadata": {},
   "source": [
    "### Loopy belief propagation"
   ]
  },
  {
   "cell_type": "code",
   "execution_count": 12,
   "id": "f21cb1e1-0e33-4a9c-9496-5c34989f80ab",
   "metadata": {},
   "outputs": [],
   "source": [
    "# The first run can be quite slow as it jit compiles.\n",
    "messages = init_messages(fg)\n",
    "for _ in range(10):\n",
    "    messages = jit_update_messages(messages)"
   ]
  },
  {
   "cell_type": "code",
   "execution_count": 13,
   "id": "4b6c0934-1754-45cd-98cb-cca1204129b1",
   "metadata": {},
   "outputs": [
    {
     "data": {
      "image/png": "[encoded data removed]",
      "text/plain": [
       "<Figure size 432x288 with 1 Axes>"
      ]
     },
     "metadata": {
      "needs_background": "light"
     },
     "output_type": "display_data"
    }
   ],
   "source": [
    "plt.plot(mxs,mys,'X',color=\"C3\",label=\"Measurements\")\n",
    "plot_beliefs(fg,messages,xs, fmt=\"o\",label=\"Beliefs\")\n",
    "plt.legend();"
   ]
  },
  {
   "cell_type": "code",
   "execution_count": null,
   "id": "d0ca733e-5bc6-41ce-862b-34b72bbbab7f",
   "metadata": {},
   "outputs": [],
   "source": []
  }
 ],
 "metadata": {
  "kernelspec": {
   "display_name": "Python 3 (ipykernel)",
   "language": "python",
   "name": "python3"
  },
  "language_info": {
   "codemirror_mode": {
    "name": "ipython",
    "version": 3
   },
   "file_extension": ".py",
   "mimetype": "text/x-python",
   "name": "python",
   "nbconvert_exporter": "python",
   "pygments_lexer": "ipython3",
   "version": "3.10.4"
  }
 },
 "nbformat": 4,
 "nbformat_minor": 5
}
